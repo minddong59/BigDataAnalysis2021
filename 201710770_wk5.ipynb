{
  "nbformat": 4,
  "nbformat_minor": 0,
  "metadata": {
    "colab": {
      "name": "201710770_wk5.ipynb",
      "provenance": [],
      "collapsed_sections": [],
      "authorship_tag": "ABX9TyOILUdeab7VdGOGJ7kdXnkd",
      "include_colab_link": true
    },
    "kernelspec": {
      "name": "python3",
      "display_name": "Python 3"
    },
    "language_info": {
      "name": "python"
    }
  },
  "cells": [
    {
      "cell_type": "markdown",
      "metadata": {
        "id": "view-in-github",
        "colab_type": "text"
      },
      "source": [
        "<a href=\"https://colab.research.google.com/github/minddong59/BigDataAnalysis2021/blob/main/201710770_wk5.ipynb\" target=\"_parent\"><img src=\"https://colab.research.google.com/assets/colab-badge.svg\" alt=\"Open In Colab\"/></a>"
      ]
    },
    {
      "cell_type": "code",
      "metadata": {
        "colab": {
          "base_uri": "https://localhost:8080/"
        },
        "id": "0ZOJVj6djlRw",
        "outputId": "76c5756b-bef8-4b07-aaea-d3a5dcc3c494"
      },
      "source": [
        "!apt-get install openjdk-11-jdk-headless -qq > /dev/null\n",
        "!wget -q https://downloads.apache.org/spark/spark-3.1.2/spark-3.1.2-bin-hadoop2.7.tgz\n",
        "!tar -xf spark-3.1.2-bin-hadoop2.7.tgz\n",
        "!pip install findspark\n",
        "\n",
        "import os\n",
        "os.environ[\"JAVA_HOME\"] = \"/usr/lib/jvm/java-11-openjdk-amd64\"\n",
        "os.environ[\"SPARK_HOME\"] = \"/content/spark-3.1.2-bin-hadoop2.7\"\n",
        "\n",
        "import findspark\n",
        "findspark.init()"
      ],
      "execution_count": null,
      "outputs": [
        {
          "output_type": "stream",
          "name": "stdout",
          "text": [
            "Collecting findspark\n",
            "  Downloading findspark-1.4.2-py2.py3-none-any.whl (4.2 kB)\n",
            "Installing collected packages: findspark\n",
            "Successfully installed findspark-1.4.2\n"
          ]
        }
      ]
    },
    {
      "cell_type": "code",
      "metadata": {
        "id": "1yBocWCXm2lv"
      },
      "source": [
        "from pyspark.context import SparkContext\n",
        "from pyspark.sql.session import SparkSession\n",
        "sc = SparkContext('local')\n",
        "spark = SparkSession(sc)"
      ],
      "execution_count": null,
      "outputs": []
    },
    {
      "cell_type": "code",
      "metadata": {
        "id": "Fs5UGqGDnBdQ"
      },
      "source": [
        "marks=[\n",
        "    \"'김하나','English', 100\",\n",
        "    \"'김하나','Math', 80\",\n",
        "    \"'임하나','English', 70\",\n",
        "    \"'임하나','Math', 100\",\n",
        "    \"'김갑돌','English', 82.3\",\n",
        "    \"'김갑돌','Math', 98.5\"\n",
        "]\n",
        "_marksRdd=spark.sparkContext.parallelize(marks)"
      ],
      "execution_count": null,
      "outputs": []
    },
    {
      "cell_type": "markdown",
      "metadata": {
        "id": "iccl4L8knYgY"
      },
      "source": [
        "## **3-1**"
      ]
    },
    {
      "cell_type": "code",
      "metadata": {
        "colab": {
          "base_uri": "https://localhost:8080/"
        },
        "id": "s9YntilGnZbB",
        "outputId": "365dac1f-5777-4753-ac76-8042f1a3fd4a"
      },
      "source": [
        "sum_Name=_marksRdd\\\n",
        "        .map(lambda x: x.split(','))\\\n",
        "        .map(lambda x: (x[0],float(x[2])))\\\n",
        "        .reduceByKey(lambda x,y:x+y)\\\n",
        "        .collect()\n",
        "\n",
        "for e in sum_Name:\n",
        "    print (e[0], e[1])"
      ],
      "execution_count": null,
      "outputs": [
        {
          "output_type": "stream",
          "name": "stdout",
          "text": [
            "'김하나' 180.0\n",
            "'임하나' 170.0\n",
            "'김갑돌' 180.8\n"
          ]
        }
      ]
    },
    {
      "cell_type": "markdown",
      "metadata": {
        "id": "zvDE_KBKn6hM"
      },
      "source": [
        "## **3-2**"
      ]
    },
    {
      "cell_type": "code",
      "metadata": {
        "colab": {
          "base_uri": "https://localhost:8080/"
        },
        "id": "AGZhjzTRn4Ix",
        "outputId": "c584a7c9-03ab-4387-ec37-9eda842de3b9"
      },
      "source": [
        "sum_Subject=_marksRdd\\\n",
        "        .map(lambda x: x.split(','))\\\n",
        "        .map(lambda x: (x[1],float(x[2])))\\\n",
        "        .reduceByKey(lambda x,y:x+y)\\\n",
        "        .collect()\n",
        "\n",
        "for e in sum_Subject:\n",
        "    print (e[0], e[1])"
      ],
      "execution_count": null,
      "outputs": [
        {
          "output_type": "stream",
          "name": "stdout",
          "text": [
            "'English' 252.3\n",
            "'Math' 278.5\n"
          ]
        }
      ]
    },
    {
      "cell_type": "markdown",
      "metadata": {
        "id": "UaHUI7droL6i"
      },
      "source": [
        "## **3-3**"
      ]
    },
    {
      "cell_type": "code",
      "metadata": {
        "id": "Z9eoNOgFoTLa"
      },
      "source": [
        "sum_Subject2=_marksRdd\\\n",
        "        .map(lambda x: x.split(','))\\\n",
        "        .map(lambda x: (x[0],float(x[2])))"
      ],
      "execution_count": null,
      "outputs": []
    },
    {
      "cell_type": "code",
      "metadata": {
        "id": "DzIM5hfnokGk"
      },
      "source": [
        "sumNcount_Name=sum_Subject2.combineByKey(\n",
        "        lambda value: (value,1),\n",
        "        lambda x,value: (x[0]+value, x[1]+1),                      \n",
        "        lambda x,y: (x[0]+y[0], x[1]+y[1]))"
      ],
      "execution_count": null,
      "outputs": []
    },
    {
      "cell_type": "code",
      "metadata": {
        "colab": {
          "base_uri": "https://localhost:8080/"
        },
        "id": "FAufEBydosOP",
        "outputId": "f97cce93-df30-4c9e-f914-3cc4df45873e"
      },
      "source": [
        "for e in sumNcount_Name.collect(): #리스트 만들기\n",
        "    print(e[0],e[1])"
      ],
      "execution_count": null,
      "outputs": [
        {
          "output_type": "stream",
          "name": "stdout",
          "text": [
            "'김하나' (180.0, 2)\n",
            "'임하나' (170.0, 2)\n",
            "'김갑돌' (180.8, 2)\n"
          ]
        }
      ]
    },
    {
      "cell_type": "markdown",
      "metadata": {
        "id": "4_0e0hAwozCx"
      },
      "source": [
        "## **3-4**"
      ]
    },
    {
      "cell_type": "code",
      "metadata": {
        "id": "nSXKjMGPo7fu"
      },
      "source": [
        "avg_Name = sumNcount_Name.map(lambda x: (x[0],x[1][0]/x[1][1]))"
      ],
      "execution_count": null,
      "outputs": []
    },
    {
      "cell_type": "code",
      "metadata": {
        "colab": {
          "base_uri": "https://localhost:8080/"
        },
        "id": "nrUmFpMlpCJt",
        "outputId": "f77ab55e-5c4c-402a-8bf9-098dcf3b02c5"
      },
      "source": [
        "for e in avg_Name.collect():\n",
        "    print(e[0],e[1])"
      ],
      "execution_count": null,
      "outputs": [
        {
          "output_type": "stream",
          "name": "stdout",
          "text": [
            "'김하나' 90.0\n",
            "'임하나' 85.0\n",
            "'김갑돌' 90.4\n"
          ]
        }
      ]
    }
  ]
}